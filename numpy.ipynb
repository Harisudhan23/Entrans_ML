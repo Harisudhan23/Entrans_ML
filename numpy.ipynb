{
 "cells": [
  {
   "cell_type": "code",
   "execution_count": 1,
   "metadata": {},
   "outputs": [
    {
     "name": "stdout",
     "output_type": "stream",
     "text": [
      "Requirement already satisfied: numpy in c:\\users\\harihara sudhan n\\appdata\\local\\programs\\python\\python312\\lib\\site-packages (2.0.2)Note: you may need to restart the kernel to use updated packages.\n",
      "\n"
     ]
    }
   ],
   "source": [
    "pip install numpy\n"
   ]
  },
  {
   "cell_type": "code",
   "execution_count": 2,
   "metadata": {},
   "outputs": [
    {
     "name": "stdout",
     "output_type": "stream",
     "text": [
      "Iteration 1: Loss = 30.0000, w = 0.3000, b = 0.1000\n",
      "Iteration 2: Loss = 20.8350, w = 0.5500, b = 0.1830\n",
      "Iteration 3: Loss = 14.4755, w = 0.7584, b = 0.2518\n",
      "Iteration 4: Loss = 10.0626, w = 0.9320, b = 0.3089\n"
     ]
    }
   ],
   "source": [
    "import numpy as np\n",
    "\n",
    "# Sample Data\n",
    "x = np.array([1, 2, 3, 4], dtype=float)\n",
    "y = np.array([2, 4, 6, 8], dtype=float)\n",
    "\n",
    "# Initialize parameters\n",
    "w, b = 0.0, 0.0\n",
    "learning_rate = 0.01\n",
    "iterations = 4\n",
    "N = len(x)\n",
    "\n",
    "# Gradient Descent\n",
    "for i in range(iterations):\n",
    "    # Predictions\n",
    "    y_pred = w * x + b\n",
    "    \n",
    "    # Compute loss\n",
    "    loss = np.mean((y - y_pred) ** 2)\n",
    "    \n",
    "    # Compute gradients\n",
    "    dw = -(2/N) * np.sum(x * (y - y_pred))\n",
    "    db = -(2/N) * np.sum(y - y_pred)\n",
    "    \n",
    "    # Update weights\n",
    "    w -= learning_rate * dw\n",
    "    b -= learning_rate * db\n",
    "    \n",
    "    print(f\"Iteration {i+1}: Loss = {loss:.4f}, w = {w:.4f}, b = {b:.4f}\")\n"
   ]
  }
 ],
 "metadata": {
  "kernelspec": {
   "display_name": "Python 3",
   "language": "python",
   "name": "python3"
  },
  "language_info": {
   "codemirror_mode": {
    "name": "ipython",
    "version": 3
   },
   "file_extension": ".py",
   "mimetype": "text/x-python",
   "name": "python",
   "nbconvert_exporter": "python",
   "pygments_lexer": "ipython3",
   "version": "3.12.3"
  }
 },
 "nbformat": 4,
 "nbformat_minor": 2
}
